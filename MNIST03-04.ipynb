{
 "cells": [
  {
   "cell_type": "markdown",
   "metadata": {},
   "source": [
    "# Алгоритмы классификации (продолжение)"
   ]
  },
  {
   "cell_type": "code",
   "execution_count": 12,
   "metadata": {
    "collapsed": false
   },
   "outputs": [],
   "source": [
    "import numpy as np\n",
    "import matplotlib.pyplot as plt\n",
    "import sklearn\n",
    "from copy import deepcopy\n",
    "%matplotlib inline\n",
    "import math"
   ]
  },
  {
   "cell_type": "code",
   "execution_count": 33,
   "metadata": {
    "collapsed": true
   },
   "outputs": [],
   "source": [
    "data = list([])\n",
    "f = open(\"train.csv\")\n",
    "isFirst = True\n",
    "for line in f:\n",
    "    if isFirst == True:\n",
    "        isFirst = False\n",
    "        continue\n",
    "    data.append(list(map(int, line.split(','))))\n",
    "f.close()\n",
    "data = np.array(data)\n",
    "x_data = data[:, 1:]\n",
    "y_data = data[:, 0]\n",
    "c = 200\n",
    "x_data = x_data[: c]\n",
    "y_data = y_data[: c]"
   ]
  },
  {
   "cell_type": "code",
   "execution_count": 19,
   "metadata": {
    "collapsed": true
   },
   "outputs": [],
   "source": [
    "# применить решающий лес\n",
    "# http://scikit-learn.org/stable/modules/generated/sklearn.ensemble.RandomForestClassifier.html\n",
    "# нарисовать график зависимости ошибки перекрестной проверки на тестовой части от числа деревьев (n_estimators). \n",
    "# Что означают и как влияют параметры criterion, max_depth, min_samples_split, min_samples_leaf ?"
   ]
  },
  {
   "cell_type": "markdown",
   "metadata": {},
   "source": [
    "***max_depth*** -- максимальаная глубина дерева.\n",
    "\n",
    "***min_samples_split*** -- минимальное количество выборок при делении узла.\n",
    "\n",
    "***min_samples_leaf*** -- минимальное количество выборок на листьях при делении узла.\n",
    "\n",
    "***criterion*** -- функция для измерения разделения узла.\n",
    "\n",
    "***n_estimators*** -- количество деревьев.\n",
    "\n",
    "Переведено с документации."
   ]
  },
  {
   "cell_type": "code",
   "execution_count": 20,
   "metadata": {
    "collapsed": false
   },
   "outputs": [
    {
     "data": {
      "image/png": "[encoded data removed]",
      "text/plain": [
       "<matplotlib.figure.Figure at 0x7ff590fc9cf8>"
      ]
     },
     "metadata": {},
     "output_type": "display_data"
    },
    {
     "name": "stdout",
     "output_type": "stream",
     "text": [
      "Минимальная ошибка 0.257631803293, при max_depth = 36\n"
     ]
    }
   ],
   "source": [
    "from sklearn.ensemble import RandomForestClassifier\n",
    "from sklearn.model_selection import cross_val_score\n",
    "\n",
    "y = list([])\n",
    "x = list([])\n",
    "for i in range(1, 51, 5):\n",
    "    clf = RandomForestClassifier(n_estimators=i)\n",
    "    scores = cross_val_score(estimator=clf, X=x_data, y=y_data, cv=10)\n",
    "    y.append(1 - scores.mean())\n",
    "    x.append(i)\n",
    "    \n",
    "\n",
    "fig = plt.figure()\n",
    "ax = fig.add_subplot(1, 1, 1)\n",
    "line = ax.plot(x, y)\n",
    "plt.ylabel('Mistake')\n",
    "plt.xlabel('Trees')\n",
    "plt.grid()\n",
    "plt.show()\n",
    "\n",
    "print('Минимальная ошибка ', min(y),', при max_depth = ', x[y.index(min(y))], sep='')"
   ]
  },
  {
   "cell_type": "code",
   "execution_count": 21,
   "metadata": {
    "collapsed": true
   },
   "outputs": [],
   "source": [
    "# применить бустинг\n",
    "# http://scikit-learn.org/stable/modules/generated/sklearn.ensemble.GradientBoostingClassifier.html\n",
    "# какие параметры и как влияют на качество классификации?"
   ]
  },
  {
   "cell_type": "code",
   "execution_count": 22,
   "metadata": {
    "collapsed": false
   },
   "outputs": [
    {
     "name": "stdout",
     "output_type": "stream",
     "text": [
      "Ошибка: 0.404194101467\n"
     ]
    }
   ],
   "source": [
    "from sklearn.ensemble import GradientBoostingClassifier\n",
    "from sklearn.model_selection import cross_val_score\n",
    "\n",
    "clf = GradientBoostingClassifier()\n",
    "cv = cross_val_score(clf, x_data, y_data, cv=10)\n",
    "print('Ошибка:', 1 - cv.mean())"
   ]
  },
  {
   "cell_type": "markdown",
   "metadata": {},
   "source": [
    "Параметры почти аналогичны с предыдущим методом"
   ]
  },
  {
   "cell_type": "markdown",
   "metadata": {
    "collapsed": true
   },
   "source": [
    "Лучший метод -- решающий лес(для выборки в 5000 элементов там самая маленькая ошибка, но для удобства я выборку обрзал)"
   ]
  },
  {
   "cell_type": "markdown",
   "metadata": {},
   "source": [
    "# Работа с бинарными изображениями\n",
    "## с помощью библиотеки http://scikit-image.org"
   ]
  },
  {
   "cell_type": "code",
   "execution_count": 4,
   "metadata": {
    "collapsed": true
   },
   "outputs": [],
   "source": [
    "# бинаризовать изображения, привести примеры картинок\n",
    "# http://scikit-image.org/docs/dev/auto_examples/xx_applications/plot_thresholding.html"
   ]
  },
  {
   "cell_type": "code",
   "execution_count": 48,
   "metadata": {
    "collapsed": false
   },
   "outputs": [
    {
     "name": "stdout",
     "output_type": "stream",
     "text": [
      "Слева выведем обычное изображение, справа - бинаризованное.\n"
     ]
    },
    {
     "data": {
      "image/png": "[encoded data removed]",
      "text/plain": [
       "<matplotlib.figure.Figure at 0x7ff5af15d128>"
      ]
     },
     "metadata": {},
     "output_type": "display_data"
    },
    {
     "data": {
      "image/png": "[encoded data removed]",
      "text/plain": [
       "<matplotlib.figure.Figure at 0x7ff5aedad978>"
      ]
     },
     "metadata": {},
     "output_type": "display_data"
    },
    {
     "data": {
      "image/png": "[encoded data removed]",
      "text/plain": [
       "<matplotlib.figure.Figure at 0x7ff5af111128>"
      ]
     },
     "metadata": {},
     "output_type": "display_data"
    },
    {
     "data": {
      "image/png": "[encoded data removed]",
      "text/plain": [
       "<matplotlib.figure.Figure at 0x7ff5af140c88>"
      ]
     },
     "metadata": {},
     "output_type": "display_data"
    },
    {
     "data": {
      "image/png": "[encoded data removed]",
      "text/plain": [
       "<matplotlib.figure.Figure at 0x7ff5aebdd898>"
      ]
     },
     "metadata": {},
     "output_type": "display_data"
    },
    {
     "data": {
      "image/png": "[encoded data removed]",
      "text/plain": [
       "<matplotlib.figure.Figure at 0x7ff5aee07898>"
      ]
     },
     "metadata": {},
     "output_type": "display_data"
    },
    {
     "data": {
      "image/png": "[encoded data removed]",
      "text/plain": [
       "<matplotlib.figure.Figure at 0x7ff5aef9b780>"
      ]
     },
     "metadata": {},
     "output_type": "display_data"
    },
    {
     "data": {
      "image/png": "[encoded data removed]",
      "text/plain": [
       "<matplotlib.figure.Figure at 0x7ff5aec9e908>"
      ]
     },
     "metadata": {},
     "output_type": "display_data"
    },
    {
     "data": {
      "image/png": "[encoded data removed]",
      "text/plain": [
       "<matplotlib.figure.Figure at 0x7ff5a2df9ef0>"
      ]
     },
     "metadata": {},
     "output_type": "display_data"
    },
    {
     "data": {
      "image/png": "[encoded data removed]",
      "text/plain": [
       "<matplotlib.figure.Figure at 0x7ff5aeb14390>"
      ]
     },
     "metadata": {},
     "output_type": "display_data"
    }
   ],
   "source": [
    "from skimage.filters import threshold_mean\n",
    "pictures = list([])\n",
    "\n",
    "\n",
    "for i in range(10):\n",
    "    digit = x_data[y_data.tolist().index(i)]\n",
    "    pictures.append(digit)\n",
    "    pictures.append(digit > threshold_mean(digit))\n",
    "    \n",
    "print(\"Слева выведем обычное изображение, справа - бинаризованное.\")\n",
    "    \n",
    "for i in range(0, 10):\n",
    "    plt.figure(figsize=(20, 10))\n",
    "    for j in range(2):\n",
    "        plt.subplot(2, 10, j + 1)\n",
    "        plt.imshow(np.reshape(pictures[2 * i + j], (28, 28)), cmap=\"gray\")\n",
    "    plt.show()"
   ]
  },
  {
   "cell_type": "code",
   "execution_count": 5,
   "metadata": {
    "collapsed": true
   },
   "outputs": [],
   "source": [
    "# выбрать несколько типичных изображений цифр и несколько не типичных (разомнутую 6, не связные из-за шума и т.п.)\n",
    "# применить к ним замыкание и размыкание в разных вариантах и порядке\n",
    "# выбрать наилучший вариант визуально, применить его ко всей выборке\n",
    "# http://scikit-image.org/docs/dev/api/skimage.morphology.html"
   ]
  },
  {
   "cell_type": "code",
   "execution_count": 6,
   "metadata": {
    "collapsed": true
   },
   "outputs": [],
   "source": [
    "# построить скелеты изображений\n",
    "# визуально выбрать лучшие параметры (skeletonize, medial_axis)\n",
    "# нарисовать примеры результатов"
   ]
  },
  {
   "cell_type": "code",
   "execution_count": 51,
   "metadata": {
    "collapsed": false
   },
   "outputs": [
    {
     "name": "stdout",
     "output_type": "stream",
     "text": [
      "Первый столбик - обычное изображение цифры, второй - скелет, полученный методом skeletonize.\n",
      "Третий - скелет, полученный методом medial_axis.\n"
     ]
    },
    {
     "data": {
      "image/png": "[encoded data removed]",
      "text/plain": [
       "<matplotlib.figure.Figure at 0x7ff5aeea6278>"
      ]
     },
     "metadata": {},
     "output_type": "display_data"
    },
    {
     "data": {
      "image/png": "[encoded data removed]",
      "text/plain": [
       "<matplotlib.figure.Figure at 0x7ff5af0d4198>"
      ]
     },
     "metadata": {},
     "output_type": "display_data"
    },
    {
     "data": {
      "image/png": "[encoded data removed]",
      "text/plain": [
       "<matplotlib.figure.Figure at 0x7ff5aebaef98>"
      ]
     },
     "metadata": {},
     "output_type": "display_data"
    },
    {
     "data": {
      "image/png": "[encoded data removed]",
      "text/plain": [
       "<matplotlib.figure.Figure at 0x7ff5aec5a4e0>"
      ]
     },
     "metadata": {},
     "output_type": "display_data"
    },
    {
     "data": {
      "image/png": "[encoded data removed]",
      "text/plain": [
       "<matplotlib.figure.Figure at 0x7ff5ae0e4588>"
      ]
     },
     "metadata": {},
     "output_type": "display_data"
    },
    {
     "data": {
      "image/png": "[encoded data removed]",
      "text/plain": [
       "<matplotlib.figure.Figure at 0x7ff5aef90630>"
      ]
     },
     "metadata": {},
     "output_type": "display_data"
    },
    {
     "data": {
      "image/png": "[encoded data removed]",
      "text/plain": [
       "<matplotlib.figure.Figure at 0x7ff5aedc89e8>"
      ]
     },
     "metadata": {},
     "output_type": "display_data"
    },
    {
     "data": {
      "image/png": "[encoded data removed]",
      "text/plain": [
       "<matplotlib.figure.Figure at 0x7ff5aeb514a8>"
      ]
     },
     "metadata": {},
     "output_type": "display_data"
    },
    {
     "data": {
      "image/png": "[encoded data removed]",
      "text/plain": [
       "<matplotlib.figure.Figure at 0x7ff5aeeecbe0>"
      ]
     },
     "metadata": {},
     "output_type": "display_data"
    },
    {
     "data": {
      "image/png": "[encoded data removed]",
      "text/plain": [
       "<matplotlib.figure.Figure at 0x7ff5ae0806a0>"
      ]
     },
     "metadata": {},
     "output_type": "display_data"
    }
   ],
   "source": [
    "from skimage.morphology import skeletonize\n",
    "from skimage.morphology import medial_axis\n",
    "\n",
    "skel_pictures = []\n",
    "\n",
    "for i in range(10):\n",
    "    digit = x_data[y_data.tolist().index(i)]\n",
    "    binared = digit > threshold_mean(digit)\n",
    "    skel_pictures.append(binared)\n",
    "    \n",
    "    skel_pictures.append(skeletonize(np.reshape(binared, (28, 28))))\n",
    "    skel_pictures.append(medial_axis(np.reshape(binared, (28, 28))))\n",
    "for i in range(10):\n",
    "    plt.figure(figsize=(20, 10))\n",
    "    for j in range(3):\n",
    "        plt.subplot(2, 10, j + 1)\n",
    "        plt.imshow(np.reshape(skel_pictures[3 * i + j], (28, 28)), cmap=\"gray\")\n",
    "    plt.show()"
   ]
  },
  {
   "cell_type": "markdown",
   "metadata": {},
   "source": [
    "Первый столбик -- это просто картинка цифры\n",
    "Второй -- скелет через метод skeletonoze\n",
    "Третий -- скелет через метод medial_axis"
   ]
  },
  {
   "cell_type": "code",
   "execution_count": 7,
   "metadata": {
    "collapsed": true
   },
   "outputs": [],
   "source": [
    "# сгенерировать признаки по изображениям и их склетам (площадь, запас связности, ширина и т.д.)"
   ]
  },
  {
   "cell_type": "code",
   "execution_count": 8,
   "metadata": {
    "collapsed": true
   },
   "outputs": [],
   "source": [
    "# добавить ваши признаки к признаковому описанию и применить решающие дереья. Сравнить результат с результатом с занятия 2"
   ]
  },
  {
   "cell_type": "markdown",
   "metadata": {},
   "source": [
    "# Метод главных компонент"
   ]
  },
  {
   "cell_type": "code",
   "execution_count": 9,
   "metadata": {
    "collapsed": true
   },
   "outputs": [],
   "source": [
    "# найти среднее изображение"
   ]
  },
  {
   "cell_type": "code",
   "execution_count": 89,
   "metadata": {
    "collapsed": true
   },
   "outputs": [],
   "source": [
    "def to_img(vector, demension):\n",
    "    img = list([])\n",
    "    j = demension\n",
    "    while (j <= len(vector)):\n",
    "        img.append(vector[j - demension: j])\n",
    "        j += demension\n",
    "    return img"
   ]
  },
  {
   "cell_type": "code",
   "execution_count": 90,
   "metadata": {
    "collapsed": false
   },
   "outputs": [
    {
     "data": {
      "text/plain": [
       "<matplotlib.image.AxesImage at 0x7ff5af111b00>"
      ]
     },
     "execution_count": 90,
     "metadata": {},
     "output_type": "execute_result"
    },
    {
     "data": {
      "image/png": "[encoded data removed]",
      "text/plain": [
       "<matplotlib.figure.Figure at 0x7ff5af0ede10>"
      ]
     },
     "metadata": {},
     "output_type": "display_data"
    }
   ],
   "source": [
    "average_img_for_all = sum(x_data) // len(x_data)\n",
    "plt.imshow(to_img(average_img_for_all, 28), cmap='gray', label='Average image')"
   ]
  },
  {
   "cell_type": "code",
   "execution_count": 91,
   "metadata": {
    "collapsed": true
   },
   "outputs": [],
   "source": [
    "# вычислить матрицу выборочной ковариации (сигма). Каково она размера?"
   ]
  },
  {
   "cell_type": "markdown",
   "metadata": {},
   "source": [
    "Найдем сингулярное разложение матрицы"
   ]
  },
  {
   "cell_type": "code",
   "execution_count": 92,
   "metadata": {
    "collapsed": false
   },
   "outputs": [
    {
     "name": "stdout",
     "output_type": "stream",
     "text": [
      "28\n",
      "(28, 28)\n"
     ]
    }
   ],
   "source": [
    "from scipy.linalg import svd\n",
    "\n",
    "U, sigma, V_T = svd(to_img(average_img_for_all, 28), full_matrices=False)\n",
    "print(sigma.shape[0])"
   ]
  },
  {
   "cell_type": "markdown",
   "metadata": {},
   "source": [
    "По определению сингулярного разложения размерность 28."
   ]
  },
  {
   "cell_type": "code",
   "execution_count": 93,
   "metadata": {
    "collapsed": true
   },
   "outputs": [],
   "source": [
    "# вычислить собственные векторы и собственные числа матрицы сигма. \n",
    "# Упорядочить их так, чтобы они располагались в порядке невозрастания собственных чисел,\n",
    "# а собственные векторы были расположены по столбцу"
   ]
  },
  {
   "cell_type": "markdown",
   "metadata": {},
   "source": [
    "Матрица сигма в сингулярном разложении -- диагональна(а U и V -- ортоганальны). Собственные значения матрицы есть квадрат матрицы сигма. В сингулярном разложении все уже отсортировано."
   ]
  },
  {
   "cell_type": "code",
   "execution_count": 94,
   "metadata": {
    "collapsed": false
   },
   "outputs": [
    {
     "name": "stdout",
     "output_type": "stream",
     "text": [
      "2079182.00627 33233.1379484 13462.2890456 5175.88984939 3033.30079981 1595.70130671 278.525587982 168.673119021 136.773324293 87.476040409 82.7823127545 38.7369639631 29.4796524284 23.2607498502 16.2887438504 8.88474051247 5.70255211667 4.4994438479 4.2854929972 1.24848179725 0.680751639675 0.248740394017 0.0825796739105 0.0390533202571 0.00644747167057 1.73472958739e-26 1.73472958739e-26 1.73472958739e-26\n"
     ]
    }
   ],
   "source": [
    "print(*sigma**2)"
   ]
  },
  {
   "cell_type": "code",
   "execution_count": 12,
   "metadata": {
    "collapsed": true
   },
   "outputs": [],
   "source": [
    "# по графику кумулятивной суммы собственных чисел дать рекомендации по выбору размерности (0.9; 0.95; 0.99)"
   ]
  },
  {
   "cell_type": "code",
   "execution_count": 13,
   "metadata": {
    "collapsed": true
   },
   "outputs": [],
   "source": [
    "# нарисовать проекции нескольких цифр на аффинные пространства реккомендованной размерности. \n",
    "# Нарисовать проекции на пространства меньшей и большей размерности"
   ]
  },
  {
   "cell_type": "code",
   "execution_count": null,
   "metadata": {
    "collapsed": true
   },
   "outputs": [],
   "source": [
    "# Применить решающие деревья к выборке меньшей размерности (признаки --- главные координаты)\n",
    "# Как изменилось качество?"
   ]
  },
  {
   "cell_type": "markdown",
   "metadata": {},
   "source": []
  },
  {
   "cell_type": "code",
   "execution_count": null,
   "metadata": {
    "collapsed": true
   },
   "outputs": [],
   "source": []
  }
 ],
 "metadata": {
  "kernelspec": {
   "display_name": "Python 3",
   "language": "python",
   "name": "python3"
  },
  "language_info": {
   "codemirror_mode": {
    "name": "ipython",
    "version": 3
   },
   "file_extension": ".py",
   "mimetype": "text/x-python",
   "name": "python",
   "nbconvert_exporter": "python",
   "pygments_lexer": "ipython3",
   "version": "3.6.0"
  }
 },
 "nbformat": 4,
 "nbformat_minor": 0
}
